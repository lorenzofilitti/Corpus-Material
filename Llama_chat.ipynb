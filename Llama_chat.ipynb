{
  "nbformat": 4,
  "nbformat_minor": 0,
  "metadata": {
    "colab": {
      "provenance": [],
      "authorship_tag": "ABX9TyMfZpdyyHAw1p3pMUK1ODp8",
      "include_colab_link": true
    },
    "kernelspec": {
      "name": "python3",
      "display_name": "Python 3"
    },
    "language_info": {
      "name": "python"
    }
  },
  "cells": [
    {
      "cell_type": "markdown",
      "metadata": {
        "id": "view-in-github",
        "colab_type": "text"
      },
      "source": [
        "<a href=\"https://colab.research.google.com/github/lorenzofilitti/Corpus-Material/blob/main/Llama_chat.ipynb\" target=\"_parent\"><img src=\"https://colab.research.google.com/assets/colab-badge.svg\" alt=\"Open In Colab\"/></a>"
      ]
    },
    {
      "cell_type": "code",
      "execution_count": 1,
      "metadata": {
        "colab": {
          "base_uri": "https://localhost:8080/",
          "height": 211
        },
        "id": "KwnBlJM3NfFy",
        "outputId": "d39e7c32-0638-4c53-91c5-79b79ea53b30"
      },
      "outputs": [
        {
          "output_type": "error",
          "ename": "FileNotFoundError",
          "evalue": "[Errno 2] No such file or directory: 'recensioni.json'",
          "traceback": [
            "\u001b[0;31m---------------------------------------------------------------------------\u001b[0m",
            "\u001b[0;31mFileNotFoundError\u001b[0m                         Traceback (most recent call last)",
            "\u001b[0;32m<ipython-input-1-d3de0ed4cd92>\u001b[0m in \u001b[0;36m<cell line: 7>\u001b[0;34m()\u001b[0m\n\u001b[1;32m      5\u001b[0m \u001b[0mmodel\u001b[0m \u001b[0;34m=\u001b[0m \u001b[0;34m\"llama3.1\"\u001b[0m  \u001b[0;31m# TODO: update this for whatever model you wish to use\u001b[0m\u001b[0;34m\u001b[0m\u001b[0;34m\u001b[0m\u001b[0m\n\u001b[1;32m      6\u001b[0m \u001b[0;34m\u001b[0m\u001b[0m\n\u001b[0;32m----> 7\u001b[0;31m \u001b[0mfile\u001b[0m \u001b[0;34m=\u001b[0m \u001b[0mopen\u001b[0m\u001b[0;34m(\u001b[0m\u001b[0;34m'recensioni.json'\u001b[0m\u001b[0;34m,\u001b[0m  \u001b[0mencoding\u001b[0m\u001b[0;34m=\u001b[0m\u001b[0;34m'utf-8'\u001b[0m\u001b[0;34m)\u001b[0m\u001b[0;34m\u001b[0m\u001b[0;34m\u001b[0m\u001b[0m\n\u001b[0m\u001b[1;32m      8\u001b[0m \u001b[0mdata\u001b[0m \u001b[0;34m=\u001b[0m \u001b[0mjson\u001b[0m\u001b[0;34m.\u001b[0m\u001b[0mload\u001b[0m\u001b[0;34m(\u001b[0m\u001b[0mfile\u001b[0m\u001b[0;34m)\u001b[0m\u001b[0;34m\u001b[0m\u001b[0;34m\u001b[0m\u001b[0m\n\u001b[1;32m      9\u001b[0m \u001b[0;34m\u001b[0m\u001b[0m\n",
            "\u001b[0;31mFileNotFoundError\u001b[0m: [Errno 2] No such file or directory: 'recensioni.json'"
          ]
        }
      ],
      "source": [
        "import json\n",
        "import requests\n",
        "\n",
        "# NOTE: ollama must be running for this to work, start the ollama app or run `ollama serve`\n",
        "model = \"llama3.1\"  # TODO: update this for whatever model you wish to use\n",
        "\n",
        "file = open('Recensioni.json',  encoding='utf-8')\n",
        "data = json.load(file)\n",
        "\n",
        "prompt = \"con una sola parola descrivi i testi che ti vengono forniti\"\n",
        "\n",
        "\n",
        "messages = []\n",
        "messages.append({\"role\": \"user\", \"content\": prompt})\n",
        "message = chat(messages)\n",
        "\n",
        "\n",
        "\n",
        "def chat(messages):\n",
        "    r = requests.post(\n",
        "        \"http://127.0.0.1:11434/api/chat\",\n",
        "        json={\"model\": model, \"messages\": messages, \"stream\": True},\n",
        "\tstream=True\n",
        "    )\n",
        "    r.raise_for_status()\n",
        "    output = \"\"\n",
        "\n",
        "    for line in r.iter_lines():\n",
        "        body = json.loads(line)\n",
        "        if \"error\" in body:\n",
        "            raise Exception(body[\"error\"])\n",
        "        if body.get(\"done\") is False:\n",
        "            message = body.get(\"message\", \"\")\n",
        "            content = message.get(\"content\", \"\")\n",
        "            output += content\n",
        "            # the response streams one token at a time, print that as we receive it\n",
        "            print(content, end=\"\", flush=True)\n",
        "\n",
        "        if body.get(\"done\", False):\n",
        "            message[\"content\"] = output\n",
        "            return message\n",
        "\n",
        "\n",
        "for prodotti in data[\"Prodotti\"]:\n",
        "    for recensioni in prodotti[\"recensioni\"]:\n",
        "        messages = []\n",
        "        recensione = recensioni[\"testo\"]\n",
        "        user = recensioni[\"utente\"]\n",
        "        print(user, \"\\n\", recensione, \"\\n\")\n",
        "        messages.append({\"role\": \"user\", \"content\": prompt})\n",
        "        messages.append({\"role\": \"user\", \"content\": recensione})\n",
        "        message = chat(messages)\n",
        "        print(\"\\n\")\n",
        "\n",
        "\n",
        "\n",
        "file.close()\n",
        "\n"
      ]
    }
  ]
}